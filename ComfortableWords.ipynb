{
  "nbformat": 4,
  "nbformat_minor": 0,
  "metadata": {
    "colab": {
      "name": "ComfortableWords.ipynb",
      "provenance": [],
      "authorship_tag": "ABX9TyMPw8mNllW0QC9SkWu9idSR",
      "include_colab_link": true
    },
    "kernelspec": {
      "name": "python3",
      "display_name": "Python 3"
    },
    "language_info": {
      "name": "python"
    }
  },
  "cells": [
    {
      "cell_type": "markdown",
      "metadata": {
        "id": "view-in-github",
        "colab_type": "text"
      },
      "source": [
        "<a href=\"https://colab.research.google.com/github/Asiya26/Python-Assigments/blob/main/ComfortableWords.ipynb\" target=\"_parent\"><img src=\"https://colab.research.google.com/assets/colab-badge.svg\" alt=\"Open In Colab\"/></a>"
      ]
    },
    {
      "cell_type": "code",
      "metadata": {
        "colab": {
          "base_uri": "https://localhost:8080/"
        },
        "id": "rtNlad7tQtvI",
        "outputId": "ef7308ff-17ee-4a10-b789-dca0de2de61f"
      },
      "source": [
        "words = str(input('Write yor word: '))\n",
        "left = 'qwertasdfgzxcvb'\n",
        "right = 'yuiophjklnm'\n",
        "left_h = set(left)\n",
        "right_h = set(right)\n",
        "word1 = set(words)\n",
        "bool(left_h.intersection(word1) and right_h.intersection(word1))\n"
      ],
      "execution_count": 1,
      "outputs": [
        {
          "name": "stdout",
          "output_type": "stream",
          "text": [
            "Write yor word: dfg\n"
          ]
        },
        {
          "output_type": "execute_result",
          "data": {
            "text/plain": [
              "False"
            ]
          },
          "metadata": {},
          "execution_count": 1
        }
      ]
    }
  ]
}