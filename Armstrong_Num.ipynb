{
  "nbformat": 4,
  "nbformat_minor": 0,
  "metadata": {
    "colab": {
      "name": "Armstrong Num.ipynb",
      "provenance": [],
      "authorship_tag": "ABX9TyNfRyzVTB2vF/ZfYo6f2Y7x",
      "include_colab_link": true
    },
    "kernelspec": {
      "name": "python3",
      "display_name": "Python 3"
    },
    "language_info": {
      "name": "python"
    }
  },
  "cells": [
    {
      "cell_type": "markdown",
      "metadata": {
        "id": "view-in-github",
        "colab_type": "text"
      },
      "source": [
        "<a href=\"https://colab.research.google.com/github/Asiya26/Python-Assigments/blob/main/Armstrong_Num.ipynb\" target=\"_parent\"><img src=\"https://colab.research.google.com/assets/colab-badge.svg\" alt=\"Open In Colab\"/></a>"
      ]
    },
    {
      "cell_type": "code",
      "metadata": {
        "colab": {
          "base_uri": "https://localhost:8080/"
        },
        "id": "KmG5QyNwcI_q",
        "outputId": "1744d804-3820-4b4b-80dc-a4ea278f126b"
      },
      "source": [
        "while True:\n",
        "  number = input('enter a positive integer number : ')\n",
        "  digits = len(number)\n",
        "  summ = 0\n",
        "  if not number.isdigit():\n",
        "    print(number,\" is invalid entry. Enter vali input.\")\n",
        "\n",
        "  elif int(number) >= 0:\n",
        "    for i in range(digits) :\n",
        "      summ =  summ +int(number[1]) ** digits \n",
        "    if summ == int(number) :\n",
        "      print(number, 'is an Amstrong Number')\n",
        "      break\n",
        "    else:\n",
        "      print(number,'is not an Amstrong Number')\n",
        "      break"
      ],
      "execution_count": 1,
      "outputs": [
        {
          "output_type": "stream",
          "name": "stdout",
          "text": [
            "enter a positive integer number : 55\n",
            "55 is not an Amstrong Number\n"
          ]
        }
      ]
    }
  ]
}